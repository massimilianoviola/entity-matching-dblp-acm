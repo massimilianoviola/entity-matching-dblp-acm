{
 "cells": [
  {
   "cell_type": "code",
   "execution_count": null,
   "id": "077380db-8355-489e-aebd-d05e3da7938f",
   "metadata": {},
   "outputs": [],
   "source": [
    "import pandas as pd\n",
    "from sklearn.metrics import precision_score, recall_score, f1_score\n",
    "import string"
   ]
  },
  {
   "cell_type": "code",
   "execution_count": null,
   "id": "227aa5ef-3915-4699-b363-85265efecfe0",
   "metadata": {},
   "outputs": [],
   "source": [
    "dfa = pd.read_csv('DBLP-ACM/ACM.csv')\n",
    "dfa = dfa.set_index('id', drop=True)\n",
    "dfa.loc[:, 'title'] = dfa.title.str.lower()\\\n",
    "    .str.translate(str.maketrans(string.punctuation, ' '*len(string.punctuation)))\\\n",
    "    .map(lambda x: ' '.join(x.split()))\n",
    "dfa.loc[dfa.authors.notna(), 'authors'] = dfa.loc[dfa.authors.notna(), 'authors']\\\n",
    "    .map(lambda x: ', '.join(sorted(x.split(', '))))\n",
    "dfa"
   ]
  },
  {
   "cell_type": "code",
   "execution_count": null,
   "id": "8598191f-e355-4558-9291-4f37b9983cd5",
   "metadata": {},
   "outputs": [],
   "source": [
    "dfb = pd.read_csv('DBLP-ACM/DBLP2.csv', encoding='latin_1')\n",
    "dfb = dfb.set_index('id', drop=True)\n",
    "dfb.loc[:, 'title'] = dfb.title.str.lower()\\\n",
    "    .str.translate(str.maketrans(string.punctuation, ' '*len(string.punctuation)))\\\n",
    "    .map(lambda x: ' '.join(x.split()))\n",
    "dfb.loc[dfb.authors.notna(), 'authors'] = dfb.loc[dfb.authors.notna(), 'authors']\\\n",
    "    .map(lambda x: ', '.join(sorted(x.split(', '))))\n",
    "dfb"
   ]
  },
  {
   "cell_type": "code",
   "execution_count": null,
   "id": "24a476f8-ea40-426c-b48c-200ec3d2fccf",
   "metadata": {},
   "outputs": [],
   "source": [
    "matches = []\n",
    "for year in dfa.year.unique():\n",
    "    dfa_block = dfa.loc[dfa.year == year, 'title']\n",
    "    dfb_block = dfb.loc[dfb.year == year, 'title']\n",
    "    for index, title_a in dfa_block.items():\n",
    "        for match in dfb_block.index[dfb_block == title_a].tolist():\n",
    "            matches.append([match, index])"
   ]
  },
  {
   "cell_type": "code",
   "execution_count": null,
   "id": "37540ca3-71a0-4526-a9a5-3b37f35a2676",
   "metadata": {},
   "outputs": [],
   "source": [
    "df = pd.DataFrame(matches, columns=['idDBLP', 'idACM'])\n",
    "df['pred'] = 1\n",
    "df"
   ]
  },
  {
   "cell_type": "code",
   "execution_count": null,
   "id": "d1bba462-ee10-4212-8fdc-112b6cfe756c",
   "metadata": {},
   "outputs": [],
   "source": [
    "pm = pd.read_csv('DBLP-ACM/DBLP-ACM_perfectMapping.csv')\n",
    "pm['true'] = 1\n",
    "pm"
   ]
  },
  {
   "cell_type": "code",
   "execution_count": null,
   "id": "0559fbaa-2b3b-42ff-ab28-4e0cf97eeabf",
   "metadata": {},
   "outputs": [],
   "source": [
    "full = pd.merge(df, pm, how='outer').fillna(0)\n",
    "full"
   ]
  },
  {
   "cell_type": "code",
   "execution_count": null,
   "id": "d7865924-d4c0-4aae-87ab-c4cd88a0529e",
   "metadata": {},
   "outputs": [],
   "source": [
    "pr = precision_score(full.true, full.pred)\n",
    "re = recall_score(full.true, full.pred)\n",
    "f1 = f1_score(full.true, full.pred)\n",
    "pr, re, f1"
   ]
  }
 ],
 "metadata": {
  "kernelspec": {
   "display_name": "Python 3 (ipykernel)",
   "language": "python",
   "name": "python3"
  },
  "language_info": {
   "codemirror_mode": {
    "name": "ipython",
    "version": 3
   },
   "file_extension": ".py",
   "mimetype": "text/x-python",
   "name": "python",
   "nbconvert_exporter": "python",
   "pygments_lexer": "ipython3",
   "version": "3.7.13"
  }
 },
 "nbformat": 4,
 "nbformat_minor": 5
}
